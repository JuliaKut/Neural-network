{
  "nbformat": 4,
  "nbformat_minor": 0,
  "metadata": {
    "colab": {
      "name": "Laba1.ipynb",
      "provenance": [],
      "collapsed_sections": [],
      "authorship_tag": "ABX9TyNYlelEqDiqJXipx6kpzq2A",
      "include_colab_link": true
    },
    "kernelspec": {
      "display_name": "Python 3",
      "name": "python3"
    }
  },
  "cells": [
    {
      "cell_type": "markdown",
      "metadata": {
        "id": "view-in-github",
        "colab_type": "text"
      },
      "source": [
        "<a href=\"https://colab.research.google.com/github/JuliaKut/Neural-network/blob/main/Laba1.ipynb\" target=\"_parent\"><img src=\"https://colab.research.google.com/assets/colab-badge.svg\" alt=\"Open In Colab\"/></a>"
      ]
    },
    {
      "cell_type": "markdown",
      "metadata": {
        "id": "oU0J80_YpKfe"
      },
      "source": [
        "Підключаємо бібліотеки"
      ]
    },
    {
      "cell_type": "code",
      "metadata": {
        "id": "NKDUpOc6TX_R"
      },
      "source": [
        "import numpy as np\r\n",
        "import matplotlib.pyplot as plt\r\n",
        "from tensorflow.keras.datasets import mnist         \r\n",
        "from tensorflow import keras\r\n",
        "from tensorflow.keras.layers import Dense, Flatten\r\n",
        "from matplotlib import image"
      ],
      "execution_count": null,
      "outputs": []
    },
    {
      "cell_type": "markdown",
      "metadata": {
        "id": "Z-NjxxSspEOL"
      },
      "source": [
        "Завантажуємо зображення та виводиом інформацію"
      ]
    },
    {
      "cell_type": "code",
      "metadata": {
        "id": "cCOrkVr7pGUq"
      },
      "source": [
        "from keras.preprocessing.image import load_img\r\n",
        "img = load_img('8.bmp')\r\n",
        "print(type(img))\r\n",
        "print(img.format)\r\n",
        "print(img.mode)\r\n",
        "print(img.size)\r\n",
        "\r\n",
        "plt.imshow(img)\r\n",
        "plt.show()\r\n",
        "\r\n",
        "img2 = load_img('J.bmp')\r\n",
        "print(type(img2))\r\n",
        "print(img2.format)\r\n",
        "print(img2.mode)\r\n",
        "print(img2.size)\r\n",
        "\r\n",
        "plt.imshow(img2)\r\n",
        "plt.show()\r\n",
        "\r\n",
        "img3 = load_img('88.bmp')\r\n",
        "print(type(img3))\r\n",
        "print(img3.format)\r\n",
        "print(img3.mode)\r\n",
        "print(img3.size)\r\n",
        "\r\n",
        "plt.imshow(img3)\r\n",
        "plt.show()\r\n",
        "\r\n",
        "img4 = load_img('JJ.bmp')\r\n",
        "print(type(img4))\r\n",
        "print(img4.format)\r\n",
        "print(img4.mode)\r\n",
        "print(img4.size)\r\n",
        "\r\n",
        "plt.imshow(img4)\r\n",
        "plt.show()"
      ],
      "execution_count": null,
      "outputs": []
    },
    {
      "cell_type": "markdown",
      "metadata": {
        "id": "T7oLB7GZpn7g"
      },
      "source": [
        "Ініціалізація масиву"
      ]
    },
    {
      "cell_type": "code",
      "metadata": {
        "id": "48xsd4sIgong"
      },
      "source": [
        "mass=np.empty(25,dtype=object)"
      ],
      "execution_count": null,
      "outputs": []
    },
    {
      "cell_type": "markdown",
      "metadata": {
        "id": "JmJOZzekqCwt"
      },
      "source": [
        "Функція конвертування зображення у масив"
      ]
    },
    {
      "cell_type": "code",
      "metadata": {
        "id": "ggFuLBPtsAS_"
      },
      "source": [
        "def getelement(name):\r\n",
        "  data=image.imread(name)\r\n",
        "  arraypointer = 0;\r\n",
        "\r\n",
        "  for i in range(5):\r\n",
        "    for j in range(5):\r\n",
        "      if data[i][j][0]==255:\r\n",
        "        mass[arraypointer]=1\r\n",
        "        arraypointer+=1\r\n",
        "      else:\r\n",
        "        mass[arraypointer]=0\r\n",
        "        arraypointer+=1\r\n",
        "  return mass.tolist()        \r\n",
        "    "
      ],
      "execution_count": null,
      "outputs": []
    },
    {
      "cell_type": "markdown",
      "metadata": {
        "id": "TvOkwi-Ujx17"
      },
      "source": [
        "Функція для прогнозування"
      ]
    },
    {
      "cell_type": "code",
      "metadata": {
        "id": "UJZtroFJtMys"
      },
      "source": [
        "def predict(vector):\r\n",
        "\r\n",
        "  predicted=model.predict([vector]);\r\n",
        "\r\n",
        "  if predicted[0][0]>= -0.5 and predicted[0][0]<0.5:\r\n",
        "    print(\"Це є цифра 8\")\r\n",
        "  elif predicted[0][0]>=0.5 and predicted[0][0]<1.5:\r\n",
        "    print(\"Це є буква Ю\")\r\n",
        "  else:   \r\n",
        "    print(\"Не розпізнано!!!!\")  "
      ],
      "execution_count": null,
      "outputs": []
    },
    {
      "cell_type": "markdown",
      "metadata": {
        "id": "vPkfQp6tj9FB"
      },
      "source": [
        "Перетворення зображень у масиви"
      ]
    },
    {
      "cell_type": "code",
      "metadata": {
        "id": "YEt0KyAog4po"
      },
      "source": [
        "num_8=getelement('8.bmp')\r\n",
        "\r\n",
        "letter_j=getelement('J.bmp')\r\n",
        "\r\n",
        "num_88=getelement('88.bmp')\r\n",
        "letter_jj=getelement('JJ.bmp')\r\n",
        "\r\n",
        "\r\n",
        "input_data=np.array([num_8,letter_j])\r\n",
        "output_data =np.array([[0],[1]])\r\n",
        "\r\n",
        "print(num_8)\r\n",
        "print(letter_j)\r\n",
        "\r\n",
        "print(num_88)\r\n",
        "print(letter_jj)\r\n"
      ],
      "execution_count": null,
      "outputs": []
    },
    {
      "cell_type": "markdown",
      "metadata": {
        "id": "Og3c_bGhkKy4"
      },
      "source": [
        "Створення моделі мережі з одним шаром, одним вихідним нейроном та лінійною функцією активації. Для оцінки помилки використовується середня квадратична помилка , а оптимізатор -градієнтний спуск.\r\n",
        "Для навчання моделі задаю 6000 ітерацій."
      ]
    },
    {
      "cell_type": "code",
      "metadata": {
        "id": "TpCp7ZD9vNsk"
      },
      "source": [
        "model = keras.Sequential()\r\n",
        "model.add(keras.layers.Dense(units=1, activation=\"linear\"))\r\n",
        "model.compile(loss=\"mse\",optimizer=\"sgd\") \r\n",
        "fit_res=model.fit(x=input_data,y=output_data,epochs=6000)   \r\n"
      ],
      "execution_count": null,
      "outputs": []
    },
    {
      "cell_type": "markdown",
      "metadata": {
        "id": "YsGiWWBwlGwn"
      },
      "source": [
        "Демонстрація роботи нейронної мережі"
      ]
    },
    {
      "cell_type": "code",
      "metadata": {
        "colab": {
          "base_uri": "https://localhost:8080/",
          "height": 1000
        },
        "id": "XIKMFzpcxNcQ",
        "outputId": "e6627676-f501-422d-a520-770c60d49a64"
      },
      "source": [
        "predict(num_8)\r\n",
        "plt.imshow(img)\r\n",
        "plt.show()\r\n",
        "predict(letter_j)\r\n",
        "plt.imshow(img2)\r\n",
        "plt.show()\r\n",
        "\r\n",
        "predict(num_88)\r\n",
        "plt.imshow(img3)\r\n",
        "plt.show()\r\n",
        "predict(letter_jj)\r\n",
        "plt.imshow(img4)\r\n",
        "plt.show()"
      ],
      "execution_count": null,
      "outputs": [
        {
          "output_type": "stream",
          "text": [
            "Це є цифра 8\n"
          ],
          "name": "stdout"
        },
        {
          "output_type": "display_data",
          "data": {
            "image/png": "[encoded data removed]",
            "text/plain": [
              "<Figure size 432x288 with 1 Axes>"
            ]
          },
          "metadata": {
            "tags": [],
            "needs_background": "light"
          }
        },
        {
          "output_type": "stream",
          "text": [
            "Це є буква Ю\n"
          ],
          "name": "stdout"
        },
        {
          "output_type": "display_data",
          "data": {
            "image/png": "[encoded data removed]",
            "text/plain": [
              "<Figure size 432x288 with 1 Axes>"
            ]
          },
          "metadata": {
            "tags": [],
            "needs_background": "light"
          }
        },
        {
          "output_type": "stream",
          "text": [
            "Це є цифра 8\n"
          ],
          "name": "stdout"
        },
        {
          "output_type": "display_data",
          "data": {
            "image/png": "[encoded data removed]",
            "text/plain": [
              "<Figure size 432x288 with 1 Axes>"
            ]
          },
          "metadata": {
            "tags": [],
            "needs_background": "light"
          }
        },
        {
          "output_type": "stream",
          "text": [
            "Це є буква Ю\n"
          ],
          "name": "stdout"
        },
        {
          "output_type": "display_data",
          "data": {
            "image/png": "[encoded data removed]",
            "text/plain": [
              "<Figure size 432x288 with 1 Axes>"
            ]
          },
          "metadata": {
            "tags": [],
            "needs_background": "light"
          }
        }
      ]
    }
  ]
}