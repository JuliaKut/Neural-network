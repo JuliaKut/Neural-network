{
  "nbformat": 4,
  "nbformat_minor": 0,
  "metadata": {
    "colab": {
      "name": "Euclidean.ipynb",
      "provenance": [],
      "authorship_tag": "ABX9TyNzZupz2CXXITzsMxgKTtCr",
      "include_colab_link": true
    },
    "kernelspec": {
      "name": "python3",
      "display_name": "Python 3"
    }
  },
  "cells": [
    {
      "cell_type": "markdown",
      "metadata": {
        "id": "view-in-github",
        "colab_type": "text"
      },
      "source": [
        "<a href=\"https://colab.research.google.com/github/JuliaKut/Neural-network/blob/main/Euclidean.ipynb\" target=\"_parent\"><img src=\"https://colab.research.google.com/assets/colab-badge.svg\" alt=\"Open In Colab\"/></a>"
      ]
    },
    {
      "cell_type": "code",
      "metadata": {
        "colab": {
          "base_uri": "https://localhost:8080/"
        },
        "id": "0yxXqGFGJupK",
        "outputId": "6fa06823-4d34-4d5b-ae62-9a44ce5a2556"
      },
      "source": [
        "from scipy.spatial import distance\r\n",
        "a = (5, 6, 7)\r\n",
        "b = (3, 8, 5)\r\n",
        "dіst = distance.euclidean(a, b)\r\n",
        "print(dіst)"
      ],
      "execution_count": 1,
      "outputs": [
        {
          "output_type": "stream",
          "text": [
            "3.4641016151377544\n"
          ],
          "name": "stdout"
        }
      ]
    }
  ]
}