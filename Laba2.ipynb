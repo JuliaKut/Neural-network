{
  "nbformat": 4,
  "nbformat_minor": 0,
  "metadata": {
    "colab": {
      "name": "Laba2.ipynb",
      "provenance": [],
      "authorship_tag": "ABX9TyMzc8A0HHCAwanlj/QvhcXB",
      "include_colab_link": true
    },
    "kernelspec": {
      "display_name": "Python 3",
      "name": "python3"
    }
  },
  "cells": [
    {
      "cell_type": "markdown",
      "metadata": {
        "id": "view-in-github",
        "colab_type": "text"
      },
      "source": [
        "<a href=\"https://colab.research.google.com/github/JuliaKut/Neural-network/blob/main/Laba2.ipynb\" target=\"_parent\"><img src=\"https://colab.research.google.com/assets/colab-badge.svg\" alt=\"Open In Colab\"/></a>"
      ]
    },
    {
      "cell_type": "markdown",
      "metadata": {
        "id": "52qMq5GsiYyn"
      },
      "source": [
        "\r\n",
        "Підключаємо бібліотеки"
      ]
    },
    {
      "cell_type": "code",
      "metadata": {
        "id": "PVxNglVZhhED"
      },
      "source": [
        "import numpy as np\r\n",
        "import matplotlib.pyplot as plt\r\n",
        "from tensorflow.keras.datasets import mnist         \r\n",
        "from tensorflow import keras\r\n",
        "from tensorflow.keras.layers import Dense, Flatten\r\n",
        "from matplotlib import image"
      ],
      "execution_count": null,
      "outputs": []
    },
    {
      "cell_type": "markdown",
      "metadata": {
        "id": "xDGGmdi4iXHv"
      },
      "source": [
        "Завантажуємо зображення та виводиом інформацію"
      ]
    },
    {
      "cell_type": "code",
      "metadata": {
        "id": "jhwWLf4bim0b"
      },
      "source": [
        "from keras.preprocessing.image import load_img\r\n",
        "img = load_img('8.bmp')\r\n",
        "print(type(img))\r\n",
        "print(img.format)\r\n",
        "print(img.mode)\r\n",
        "print(img.size)\r\n",
        "\r\n",
        "plt.imshow(img)\r\n",
        "plt.show()\r\n",
        "\r\n",
        "img2 = load_img('J.bmp')\r\n",
        "print(type(img2))\r\n",
        "print(img2.format)\r\n",
        "print(img2.mode)\r\n",
        "print(img2.size)\r\n",
        "\r\n",
        "plt.imshow(img2)\r\n",
        "plt.show()\r\n",
        "\r\n",
        "img3 = load_img('88.bmp')\r\n",
        "print(type(img3))\r\n",
        "print(img3.format)\r\n",
        "print(img3.mode)\r\n",
        "print(img3.size)\r\n",
        "\r\n",
        "plt.imshow(img3)\r\n",
        "plt.show()\r\n",
        "\r\n",
        "img4 = load_img('JJ.bmp')\r\n",
        "print(type(img4))\r\n",
        "print(img4.format)\r\n",
        "print(img4.mode)\r\n",
        "print(img4.size)\r\n",
        "\r\n",
        "plt.imshow(img4)\r\n",
        "plt.show()"
      ],
      "execution_count": null,
      "outputs": []
    },
    {
      "cell_type": "markdown",
      "metadata": {
        "id": "gmYJq7gqisvL"
      },
      "source": [
        "Ініціалізація масиву"
      ]
    },
    {
      "cell_type": "code",
      "metadata": {
        "id": "KpJnsxNnitKa"
      },
      "source": [
        "mass=np.empty(25,dtype=object)"
      ],
      "execution_count": null,
      "outputs": []
    },
    {
      "cell_type": "markdown",
      "metadata": {
        "id": "nWvqMLFTivlz"
      },
      "source": [
        "Функція конвертування зображення у масив"
      ]
    },
    {
      "cell_type": "code",
      "metadata": {
        "id": "Jo7qEDCAizD2"
      },
      "source": [
        "def getelement(name):\r\n",
        "  data=image.imread(name)\r\n",
        "  arraypointer = 0;\r\n",
        "\r\n",
        "  for i in range(5):\r\n",
        "    for j in range(5):\r\n",
        "      if data[i][j][0]==255:\r\n",
        "        mass[arraypointer]=1\r\n",
        "        arraypointer+=1\r\n",
        "      else:\r\n",
        "        mass[arraypointer]=0\r\n",
        "        arraypointer+=1\r\n",
        "  return mass.tolist()   "
      ],
      "execution_count": null,
      "outputs": []
    },
    {
      "cell_type": "markdown",
      "metadata": {
        "id": "vu8RpKr_i4yB"
      },
      "source": [
        "Функція для прогнозування"
      ]
    },
    {
      "cell_type": "code",
      "metadata": {
        "id": "2ouHlKR_i5at"
      },
      "source": [
        "def predict(vector):\r\n",
        "\r\n",
        "  predicted=model.predict([vector]);\r\n",
        "\r\n",
        "  if predicted[0][0]>= -0.5 and predicted[0][0]<0.5:\r\n",
        "    print(\"Це є цифра 8\")\r\n",
        "  elif predicted[0][0]>=0.5 and predicted[0][0]<1.5:\r\n",
        "    print(\"Це є буква Ю\")\r\n",
        "  else:   \r\n",
        "    print(\"Не розпізнано!!!!\")  "
      ],
      "execution_count": null,
      "outputs": []
    },
    {
      "cell_type": "markdown",
      "metadata": {
        "id": "X_jDv0mQi-Th"
      },
      "source": [
        "Перетворення зображень у масиви"
      ]
    },
    {
      "cell_type": "code",
      "metadata": {
        "id": "meHu-RQfjD0N"
      },
      "source": [
        "num_8=getelement('8.bmp')\r\n",
        "\r\n",
        "letter_j=getelement('J.bmp')\r\n",
        "\r\n",
        "num_88=getelement('88.bmp')\r\n",
        "letter_jj=getelement('JJ.bmp')\r\n",
        "\r\n",
        "\r\n",
        "input_data=np.array([num_8,letter_j])\r\n",
        "output_data =np.array([[0],[1]])\r\n",
        "\r\n",
        "print(num_8)\r\n",
        "print(letter_j)\r\n",
        "\r\n",
        "print(num_88)\r\n",
        "print(letter_jj)"
      ],
      "execution_count": null,
      "outputs": []
    },
    {
      "cell_type": "markdown",
      "metadata": {
        "id": "SUEeOPUfjHTN"
      },
      "source": [
        "Створення моделі мережі у якій вхідний слой має 25 нейронів , скритий слой-50 та вихідний - один.  "
      ]
    },
    {
      "cell_type": "code",
      "metadata": {
        "id": "fffFFHRdjMxD"
      },
      "source": [
        "model = keras.Sequential([\r\n",
        "    Flatten(input_shape=(25, 1)),\r\n",
        "    Dense(50, activation='linear'),\r\n",
        "    Dense(1, activation='linear')\r\n",
        "])\r\n",
        "\r\n",
        "print(model.summary())\r\n",
        "\r\n"
      ],
      "execution_count": null,
      "outputs": []
    },
    {
      "cell_type": "markdown",
      "metadata": {
        "id": "8FzS23FfHMD9"
      },
      "source": [
        "Для оцінки помилки використовується середня квадратична помилка , а оптимізатор -градієнтний спуск."
      ]
    },
    {
      "cell_type": "code",
      "metadata": {
        "id": "nwl04anN3dT5"
      },
      "source": [
        "model.compile(optimizer='sgd',\r\n",
        "             loss='mse',\r\n",
        "             metrics=['accuracy'])\r\n",
        "\r\n",
        "model.fit(x=input_data,y=output_data,epochs=3000)"
      ],
      "execution_count": null,
      "outputs": []
    },
    {
      "cell_type": "markdown",
      "metadata": {
        "id": "CtpBVb4JxPff"
      },
      "source": [
        "Демонстрація роботи нейронної мережі"
      ]
    },
    {
      "cell_type": "code",
      "metadata": {
        "id": "4wKOILS5xRy8"
      },
      "source": [
        "predict(num_8)\r\n",
        "plt.imshow(img)\r\n",
        "plt.show()\r\n",
        "predict(letter_j)\r\n",
        "plt.imshow(img2)\r\n",
        "plt.show()\r\n",
        "\r\n",
        "predict(num_88)\r\n",
        "plt.imshow(img3)\r\n",
        "plt.show()\r\n",
        "predict(letter_jj)\r\n",
        "plt.imshow(img4)\r\n",
        "plt.show()"
      ],
      "execution_count": null,
      "outputs": []
    }
  ]
}