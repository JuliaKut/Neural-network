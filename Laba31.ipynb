{
  "nbformat": 4,
  "nbformat_minor": 0,
  "metadata": {
    "colab": {
      "name": "Laba31.ipynb",
      "provenance": [],
      "authorship_tag": "ABX9TyPts8661dwSmC/Ha1Nls0JT",
      "include_colab_link": true
    },
    "kernelspec": {
      "name": "python3",
      "display_name": "Python 3"
    }
  },
  "cells": [
    {
      "cell_type": "markdown",
      "metadata": {
        "id": "view-in-github",
        "colab_type": "text"
      },
      "source": [
        "<a href=\"https://colab.research.google.com/github/JuliaKut/Neural-network/blob/main/Laba31.ipynb\" target=\"_parent\"><img src=\"https://colab.research.google.com/assets/colab-badge.svg\" alt=\"Open In Colab\"/></a>"
      ]
    },
    {
      "cell_type": "markdown",
      "metadata": {
        "id": "RSUl7kRwVFV-"
      },
      "source": [
        "Підключаємо бібліотеки"
      ]
    },
    {
      "cell_type": "code",
      "metadata": {
        "id": "4R1IH3UuTiSS"
      },
      "source": [
        "import numpy as np\r\n",
        "import matplotlib.pyplot as plt\r\n",
        "from tensorflow.keras.datasets import mnist         \r\n",
        "from tensorflow import keras\r\n",
        "from tensorflow.keras.layers import Dense, Flatten"
      ],
      "execution_count": 1,
      "outputs": []
    },
    {
      "cell_type": "markdown",
      "metadata": {
        "id": "ukjUy4m0cUee"
      },
      "source": [
        "Загрузка тестової та навчальної вибірки"
      ]
    },
    {
      "cell_type": "code",
      "metadata": {
        "colab": {
          "base_uri": "https://localhost:8080/"
        },
        "id": "m9YGZmUscYWu",
        "outputId": "84432dbd-5ed9-41e5-bae8-b366fcde1aad"
      },
      "source": [
        "(x_train, y_train), (x_test, y_test) = mnist.load_data()"
      ],
      "execution_count": 2,
      "outputs": [
        {
          "output_type": "stream",
          "text": [
            "Downloading data from https://storage.googleapis.com/tensorflow/tf-keras-datasets/mnist.npz\n",
            "11493376/11490434 [==============================] - 0s 0us/step\n"
          ],
          "name": "stdout"
        }
      ]
    },
    {
      "cell_type": "markdown",
      "metadata": {
        "id": "BkE-tiQNfIIK"
      },
      "source": [
        "Нормалізація даних"
      ]
    },
    {
      "cell_type": "code",
      "metadata": {
        "id": "MRJzzpfwfK8M"
      },
      "source": [
        "x_train = x_train / 255\r\n",
        "x_test = x_test / 255"
      ],
      "execution_count": 3,
      "outputs": []
    },
    {
      "cell_type": "markdown",
      "metadata": {
        "id": "UKEqEVDgfvic"
      },
      "source": [
        "Перетворення правильних відповідей для представлення по категоріях:"
      ]
    },
    {
      "cell_type": "code",
      "metadata": {
        "id": "4wW2kWgjfy28"
      },
      "source": [
        "y_train_cat = keras.utils.to_categorical(y_train, 10)\r\n",
        "y_test_cat = keras.utils.to_categorical(y_test, 10)"
      ],
      "execution_count": 4,
      "outputs": []
    },
    {
      "cell_type": "markdown",
      "metadata": {
        "id": "-FCwscSOgmH0"
      },
      "source": [
        "Створення моделі мережі"
      ]
    },
    {
      "cell_type": "code",
      "metadata": {
        "colab": {
          "base_uri": "https://localhost:8080/"
        },
        "id": "q5TB_Yjfgm19",
        "outputId": "7695f955-4b1b-48e4-d1c7-8f98f2ebe5cf"
      },
      "source": [
        "model = keras.Sequential([\r\n",
        "    Flatten(input_shape=(28, 28, 1)),\r\n",
        "    Dense(50, activation='relu'),\r\n",
        "    Dense(50, activation='relu'),\r\n",
        "    Dense(10, activation='softmax')\r\n",
        "])\r\n",
        "print(model.summary())  "
      ],
      "execution_count": 5,
      "outputs": [
        {
          "output_type": "stream",
          "text": [
            "Model: \"sequential\"\n",
            "_________________________________________________________________\n",
            "Layer (type)                 Output Shape              Param #   \n",
            "=================================================================\n",
            "flatten (Flatten)            (None, 784)               0         \n",
            "_________________________________________________________________\n",
            "dense (Dense)                (None, 50)                39250     \n",
            "_________________________________________________________________\n",
            "dense_1 (Dense)              (None, 50)                2550      \n",
            "_________________________________________________________________\n",
            "dense_2 (Dense)              (None, 10)                510       \n",
            "=================================================================\n",
            "Total params: 42,310\n",
            "Trainable params: 42,310\n",
            "Non-trainable params: 0\n",
            "_________________________________________________________________\n",
            "None\n"
          ],
          "name": "stdout"
        }
      ]
    },
    {
      "cell_type": "markdown",
      "metadata": {
        "id": "-ys53lHLnV01"
      },
      "source": [
        "Компіляція мережі, де оптимізація  – adam, міра помилки - categorical_crossentropy, метрика оптимізації accuracy."
      ]
    },
    {
      "cell_type": "code",
      "metadata": {
        "id": "xY4PqcEimbRk"
      },
      "source": [
        "model.compile(optimizer='adam',\r\n",
        "             loss='categorical_crossentropy',\r\n",
        "             metrics=['accuracy'])"
      ],
      "execution_count": 7,
      "outputs": []
    },
    {
      "cell_type": "markdown",
      "metadata": {
        "id": "1dRoby96kzms"
      },
      "source": [
        "Навчання мережі"
      ]
    },
    {
      "cell_type": "code",
      "metadata": {
        "colab": {
          "base_uri": "https://localhost:8080/"
        },
        "id": "olss9G-Lk1w9",
        "outputId": "60d6c574-00eb-4c50-d935-5b0f9200f81b"
      },
      "source": [
        "model.fit(x_train, y_train_cat, batch_size=32, epochs=5, validation_split=0.2)"
      ],
      "execution_count": 8,
      "outputs": [
        {
          "output_type": "stream",
          "text": [
            "Epoch 1/5\n",
            "1500/1500 [==============================] - 4s 2ms/step - loss: 0.5747 - accuracy: 0.8304 - val_loss: 0.1891 - val_accuracy: 0.9447\n",
            "Epoch 2/5\n",
            "1500/1500 [==============================] - 3s 2ms/step - loss: 0.1717 - accuracy: 0.9488 - val_loss: 0.1306 - val_accuracy: 0.9611\n",
            "Epoch 3/5\n",
            "1500/1500 [==============================] - 3s 2ms/step - loss: 0.1195 - accuracy: 0.9640 - val_loss: 0.1174 - val_accuracy: 0.9644\n",
            "Epoch 4/5\n",
            "1500/1500 [==============================] - 3s 2ms/step - loss: 0.0879 - accuracy: 0.9738 - val_loss: 0.1321 - val_accuracy: 0.9604\n",
            "Epoch 5/5\n",
            "1500/1500 [==============================] - 3s 2ms/step - loss: 0.0770 - accuracy: 0.9754 - val_loss: 0.1095 - val_accuracy: 0.9675\n"
          ],
          "name": "stdout"
        },
        {
          "output_type": "execute_result",
          "data": {
            "text/plain": [
              "<tensorflow.python.keras.callbacks.History at 0x7f258a859e90>"
            ]
          },
          "metadata": {
            "tags": []
          },
          "execution_count": 8
        }
      ]
    },
    {
      "cell_type": "markdown",
      "metadata": {
        "id": "mCjdIaQYk4WJ"
      },
      "source": [
        "Подаю на вхід тестові зображення"
      ]
    },
    {
      "cell_type": "code",
      "metadata": {
        "colab": {
          "base_uri": "https://localhost:8080/"
        },
        "id": "cEgsxf0IlDUk",
        "outputId": "a0f5875b-ddea-41e5-8af9-6efd46e38b93"
      },
      "source": [
        "model.evaluate(x_test, y_test_cat)"
      ],
      "execution_count": 9,
      "outputs": [
        {
          "output_type": "stream",
          "text": [
            "313/313 [==============================] - 1s 2ms/step - loss: 0.1071 - accuracy: 0.9695\n"
          ],
          "name": "stdout"
        },
        {
          "output_type": "execute_result",
          "data": {
            "text/plain": [
              "[0.10713929682970047, 0.9695000052452087]"
            ]
          },
          "metadata": {
            "tags": []
          },
          "execution_count": 9
        }
      ]
    },
    {
      "cell_type": "markdown",
      "metadata": {
        "id": "o3VWe56BlSRx"
      },
      "source": [
        "Перевірка мережі на конкретному зображенні"
      ]
    },
    {
      "cell_type": "code",
      "metadata": {
        "colab": {
          "base_uri": "https://localhost:8080/",
          "height": 318
        },
        "id": "IgK6ypBelXcy",
        "outputId": "6b4ee648-c53a-488b-db36-f2fb8543f271"
      },
      "source": [
        "n = 5\r\n",
        "x = np.expand_dims(x_test[n], axis=0)\r\n",
        "res = model.predict(x)\r\n",
        "print( res )\r\n",
        "print(f\" Це є цифра: {np.argmax(res)}\" )\r\n",
        "\r\n",
        "plt.imshow(x_test[n], cmap=plt.cm.binary)\r\n",
        "plt.show()"
      ],
      "execution_count": 15,
      "outputs": [
        {
          "output_type": "stream",
          "text": [
            "[[6.8109109e-08 9.9473095e-01 6.4373904e-05 3.1434131e-05 3.1725073e-04\n",
            "  1.1563226e-08 7.8184947e-08 4.8480607e-03 5.8930650e-06 1.9514407e-06]]\n",
            " Це є цифра: 1\n"
          ],
          "name": "stdout"
        },
        {
          "output_type": "display_data",
          "data": {
            "image/png": "[encoded data removed]",
            "text/plain": [
              "<Figure size 432x288 with 1 Axes>"
            ]
          },
          "metadata": {
            "tags": [],
            "needs_background": "light"
          }
        }
      ]
    }
  ]
}