{
  "nbformat": 4,
  "nbformat_minor": 0,
  "metadata": {
    "colab": {
      "name": "Laba31.ipynb",
      "provenance": [],
      "authorship_tag": "ABX9TyNqMEPIW3nT6pwdDeaCnC6z",
      "include_colab_link": true
    },
    "kernelspec": {
      "name": "python3",
      "display_name": "Python 3"
    }
  },
  "cells": [
    {
      "cell_type": "markdown",
      "metadata": {
        "id": "view-in-github",
        "colab_type": "text"
      },
      "source": [
        "<a href=\"https://colab.research.google.com/github/JuliaKut/Neural-network/blob/main/Laba31.ipynb\" target=\"_parent\"><img src=\"https://colab.research.google.com/assets/colab-badge.svg\" alt=\"Open In Colab\"/></a>"
      ]
    },
    {
      "cell_type": "markdown",
      "metadata": {
        "id": "RSUl7kRwVFV-"
      },
      "source": [
        "Підключення бібліотек"
      ]
    },
    {
      "cell_type": "code",
      "metadata": {
        "id": "4R1IH3UuTiSS"
      },
      "source": [
        "import numpy as np\r\n",
        "import matplotlib.pyplot as plt\r\n",
        "from tensorflow.keras.datasets import mnist         \r\n",
        "from tensorflow import keras\r\n",
        "from tensorflow.keras.layers import Dense, Flatten"
      ],
      "execution_count": 1,
      "outputs": []
    },
    {
      "cell_type": "markdown",
      "metadata": {
        "id": "ukjUy4m0cUee"
      },
      "source": [
        "Загрузка тестової та навчальної вибірки"
      ]
    },
    {
      "cell_type": "code",
      "metadata": {
        "id": "m9YGZmUscYWu"
      },
      "source": [
        "(x_train, y_train), (x_test, y_test) = mnist.load_data()"
      ],
      "execution_count": null,
      "outputs": []
    },
    {
      "cell_type": "markdown",
      "metadata": {
        "id": "BkE-tiQNfIIK"
      },
      "source": [
        "Нормалізація даних"
      ]
    },
    {
      "cell_type": "code",
      "metadata": {
        "id": "MRJzzpfwfK8M"
      },
      "source": [
        "x_train = x_train / 255\r\n",
        "x_test = x_test / 255"
      ],
      "execution_count": 3,
      "outputs": []
    },
    {
      "cell_type": "markdown",
      "metadata": {
        "id": "UKEqEVDgfvic"
      },
      "source": [
        "Перетворення правильних відповідей для представлення по категоріях:"
      ]
    },
    {
      "cell_type": "code",
      "metadata": {
        "id": "4wW2kWgjfy28"
      },
      "source": [
        "y_train_cat = keras.utils.to_categorical(y_train, 10)\r\n",
        "y_test_cat = keras.utils.to_categorical(y_test, 10)"
      ],
      "execution_count": 4,
      "outputs": []
    },
    {
      "cell_type": "markdown",
      "metadata": {
        "id": "-FCwscSOgmH0"
      },
      "source": [
        "Створення моделі мережі"
      ]
    },
    {
      "cell_type": "code",
      "metadata": {
        "id": "q5TB_Yjfgm19"
      },
      "source": [
        "model = keras.Sequential([\r\n",
        "    Flatten(input_shape=(28, 28, 1)),\r\n",
        "    Dense(50, activation='relu'),\r\n",
        "    Dense(50, activation='relu'),\r\n",
        "    Dense(10, activation='softmax')\r\n",
        "])\r\n",
        "print(model.summary())  "
      ],
      "execution_count": null,
      "outputs": []
    },
    {
      "cell_type": "markdown",
      "metadata": {
        "id": "-ys53lHLnV01"
      },
      "source": [
        "Компіляція мережі, де оптимізація  – adam, міра помилки - categorical_crossentropy, метрика оптимізації accuracy."
      ]
    },
    {
      "cell_type": "code",
      "metadata": {
        "id": "xY4PqcEimbRk"
      },
      "source": [
        "model.compile(optimizer='adam',\r\n",
        "             loss='categorical_crossentropy',\r\n",
        "             metrics=['accuracy'])"
      ],
      "execution_count": 7,
      "outputs": []
    },
    {
      "cell_type": "markdown",
      "metadata": {
        "id": "1dRoby96kzms"
      },
      "source": [
        "Навчання мережі"
      ]
    },
    {
      "cell_type": "code",
      "metadata": {
        "id": "olss9G-Lk1w9"
      },
      "source": [
        "model.fit(x_train, y_train_cat, batch_size=32, epochs=5, validation_split=0.2)"
      ],
      "execution_count": null,
      "outputs": []
    },
    {
      "cell_type": "markdown",
      "metadata": {
        "id": "mCjdIaQYk4WJ"
      },
      "source": [
        "Подаю на вхід тестові зображення"
      ]
    },
    {
      "cell_type": "code",
      "metadata": {
        "id": "cEgsxf0IlDUk"
      },
      "source": [
        "model.evaluate(x_test, y_test_cat)"
      ],
      "execution_count": null,
      "outputs": []
    },
    {
      "cell_type": "markdown",
      "metadata": {
        "id": "o3VWe56BlSRx"
      },
      "source": [
        "Перевірка мережі на конкретному зображенні"
      ]
    },
    {
      "cell_type": "code",
      "metadata": {
        "id": "IgK6ypBelXcy"
      },
      "source": [
        "n = 5\r\n",
        "x = np.expand_dims(x_test[n], axis=0)\r\n",
        "res = model.predict(x)\r\n",
        "print( res )\r\n",
        "print(f\" Це є цифра: {np.argmax(res)}\" )\r\n",
        "\r\n",
        "plt.imshow(x_test[n], cmap=plt.cm.binary)\r\n",
        "plt.show()"
      ],
      "execution_count": null,
      "outputs": []
    }
  ]
}