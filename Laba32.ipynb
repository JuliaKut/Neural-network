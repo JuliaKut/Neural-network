{
  "nbformat": 4,
  "nbformat_minor": 0,
  "metadata": {
    "colab": {
      "name": "Laba32.ipynb",
      "provenance": [],
      "authorship_tag": "ABX9TyNIc54df7Eu+5n9LMJbXLzW",
      "include_colab_link": true
    },
    "kernelspec": {
      "name": "python3",
      "display_name": "Python 3"
    }
  },
  "cells": [
    {
      "cell_type": "markdown",
      "metadata": {
        "id": "view-in-github",
        "colab_type": "text"
      },
      "source": [
        "<a href=\"https://colab.research.google.com/github/JuliaKut/Neural-network/blob/main/Laba32.ipynb\" target=\"_parent\"><img src=\"https://colab.research.google.com/assets/colab-badge.svg\" alt=\"Open In Colab\"/></a>"
      ]
    },
    {
      "cell_type": "code",
      "metadata": {
        "id": "Qopn2TcCBy5b"
      },
      "source": [
        "from tensorflow.keras.datasets import cifar10\r\n",
        "from tensorflow.keras.models import Sequential\r\n",
        "from tensorflow.keras.layers import Dense, Flatten, Conv2D, MaxPooling2D\r\n",
        "from tensorflow.keras.losses import sparse_categorical_crossentropy\r\n",
        "from tensorflow.keras.optimizers import Adam\r\n",
        "import matplotlib.pyplot as plt\r\n",
        "\r\n",
        "# Model configuration\r\n",
        "batch_size = 50\r\n",
        "img_width, img_height, img_num_channels = 32, 32, 3\r\n",
        "loss_function = sparse_categorical_crossentropy\r\n",
        "no_classes = 10\r\n",
        "no_epochs = 5\r\n",
        "optimizer = Adam()\r\n",
        "validation_split = 0.2\r\n",
        "verbosity = 1\r\n",
        "\r\n",
        "# Load CIFAR-10 data\r\n",
        "(input_train, target_train), (input_test, target_test) = cifar10.load_data()\r\n",
        "\r\n",
        "# Determine shape of the data\r\n",
        "input_shape = (img_width, img_height, img_num_channels)\r\n",
        "\r\n",
        "# Parse numbers as floats\r\n",
        "input_train = input_train.astype('float32')\r\n",
        "input_test = input_test.astype('float32')\r\n",
        "\r\n",
        "# Normalize data\r\n",
        "input_train = input_train / 255\r\n",
        "input_test = input_test / 255\r\n",
        "\r\n",
        "# Create the model\r\n",
        "model = Sequential()\r\n",
        "model.add(Conv2D(32, kernel_size=(3, 3), activation='relu', input_shape=input_shape))\r\n",
        "model.add(MaxPooling2D(pool_size=(2, 2)))\r\n",
        "model.add(Conv2D(64, kernel_size=(3, 3), activation='relu'))\r\n",
        "model.add(MaxPooling2D(pool_size=(2, 2)))\r\n",
        "model.add(Conv2D(128, kernel_size=(3, 3), activation='relu'))\r\n",
        "model.add(MaxPooling2D(pool_size=(2, 2)))\r\n",
        "model.add(Flatten())\r\n",
        "model.add(Dense(256, activation='relu'))\r\n",
        "model.add(Dense(128, activation='relu'))\r\n",
        "model.add(Dense(no_classes, activation='softmax'))\r\n",
        "\r\n",
        "# Compile the model\r\n",
        "model.compile(loss=loss_function,\r\n",
        "              optimizer=optimizer,\r\n",
        "              metrics=['accuracy'])"
      ],
      "execution_count": 31,
      "outputs": []
    },
    {
      "cell_type": "code",
      "metadata": {
        "colab": {
          "base_uri": "https://localhost:8080/"
        },
        "id": "XqieUtUTFteT",
        "outputId": "5cdf9c62-b058-413f-85ca-18d91c03f6cb"
      },
      "source": [
        "# Fit data to model\r\n",
        "history = model.fit(input_train, target_train,\r\n",
        "            batch_size=batch_size,\r\n",
        "            epochs=no_epochs,\r\n",
        "            verbose=verbosity,\r\n",
        "            validation_split=validation_split)\r\n",
        "\r\n",
        "# Generate generalization metrics\r\n",
        "score = model.evaluate(input_test, target_test, verbose=0)\r\n",
        "print(f'Test loss: {score[0]} / Test accuracy: {score[1]}')"
      ],
      "execution_count": 32,
      "outputs": [
        {
          "output_type": "stream",
          "text": [
            "Epoch 1/5\n",
            "800/800 [==============================] - 49s 61ms/step - loss: 1.8161 - accuracy: 0.3167 - val_loss: 1.2725 - val_accuracy: 0.5353\n",
            "Epoch 2/5\n",
            "800/800 [==============================] - 48s 60ms/step - loss: 1.2288 - accuracy: 0.5540 - val_loss: 1.0764 - val_accuracy: 0.6266\n",
            "Epoch 3/5\n",
            "800/800 [==============================] - 48s 60ms/step - loss: 1.0142 - accuracy: 0.6423 - val_loss: 1.0543 - val_accuracy: 0.6329\n",
            "Epoch 4/5\n",
            "800/800 [==============================] - 48s 60ms/step - loss: 0.8807 - accuracy: 0.6901 - val_loss: 0.9440 - val_accuracy: 0.6691\n",
            "Epoch 5/5\n",
            "800/800 [==============================] - 48s 60ms/step - loss: 0.7804 - accuracy: 0.7249 - val_loss: 0.8708 - val_accuracy: 0.6983\n",
            "Test loss: 0.8715122938156128 / Test accuracy: 0.6972000002861023\n"
          ],
          "name": "stdout"
        }
      ]
    },
    {
      "cell_type": "code",
      "metadata": {
        "colab": {
          "base_uri": "https://localhost:8080/",
          "height": 319
        },
        "id": "ZpgTt9cED1Fv",
        "outputId": "6008c7f1-cc43-4abb-e017-5ac136ed7b06"
      },
      "source": [
        "n = 3\r\n",
        "x = np.expand_dims(input_test[n], axis=0)\r\n",
        "res = model.predict(x)\r\n",
        "print( res )\r\n",
        "\r\n",
        "if np.argmax(res)==0:\r\n",
        "  name='літак'\r\n",
        "elif np.argmax(res)==1:\r\n",
        "  name='автомобіль'\r\n",
        "elif np.argmax(res)==2:\r\n",
        "  name='птах'\r\n",
        "elif np.argmax(res)==3:\r\n",
        "  name='кіт'\r\n",
        "elif np.argmax(res)==4:\r\n",
        "  name='олень'\r\n",
        "elif np.argmax(res)==5:\r\n",
        "  name='собака'\r\n",
        "elif np.argmax(res)==6:\r\n",
        "  name='жаба'\r\n",
        "elif np.argmax(res)==7:\r\n",
        "  name='кінь'\r\n",
        "elif np.argmax(res)==8:\r\n",
        "  name='корабель'\r\n",
        "elif np.argmax(res)==9:\r\n",
        "  name='вантажівка'\r\n",
        "\r\n",
        "\r\n",
        "print(f\" На даній картинці зображена: {name}\" )\r\n",
        "\r\n",
        "plt.imshow(input_test[n], cmap=plt.cm.binary)\r\n",
        "plt.show()"
      ],
      "execution_count": 46,
      "outputs": [
        {
          "output_type": "stream",
          "text": [
            "[[7.3271024e-01 4.6843435e-03 2.3396753e-02 3.2895545e-03 5.3117495e-02\n",
            "  4.0249745e-04 1.2811780e-03 2.5396285e-04 1.7889464e-01 1.9694269e-03]]\n",
            " На даній картинці зображена: літак\n"
          ],
          "name": "stdout"
        },
        {
          "output_type": "display_data",
          "data": {
            "image/png": "[encoded data removed]",
            "text/plain": [
              "<Figure size 432x288 with 1 Axes>"
            ]
          },
          "metadata": {
            "tags": [],
            "needs_background": "light"
          }
        }
      ]
    }
  ]
}