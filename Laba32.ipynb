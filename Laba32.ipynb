{
  "nbformat": 4,
  "nbformat_minor": 0,
  "metadata": {
    "colab": {
      "name": "Laba32.ipynb",
      "provenance": [],
      "authorship_tag": "ABX9TyMovhmOuPEwT9ee3eFu9mGJ",
      "include_colab_link": true
    },
    "kernelspec": {
      "name": "python3",
      "display_name": "Python 3"
    }
  },
  "cells": [
    {
      "cell_type": "markdown",
      "metadata": {
        "id": "view-in-github",
        "colab_type": "text"
      },
      "source": [
        "<a href=\"https://colab.research.google.com/github/JuliaKut/Neural-network/blob/main/Laba32.ipynb\" target=\"_parent\"><img src=\"https://colab.research.google.com/assets/colab-badge.svg\" alt=\"Open In Colab\"/></a>"
      ]
    },
    {
      "cell_type": "markdown",
      "metadata": {
        "id": "PatSVFkWSkQ3"
      },
      "source": [
        "Підключення бібліотек"
      ]
    },
    {
      "cell_type": "code",
      "metadata": {
        "id": "Qopn2TcCBy5b"
      },
      "source": [
        "from tensorflow.keras.datasets import cifar10\r\n",
        "from tensorflow.keras.models import Sequential\r\n",
        "from tensorflow.keras.layers import Dense, Flatten, Conv2D, MaxPooling2D\r\n",
        "from tensorflow.keras.losses import sparse_categorical_crossentropy\r\n",
        "from tensorflow.keras.optimizers import Adam\r\n",
        "import matplotlib.pyplot as plt"
      ],
      "execution_count": 31,
      "outputs": []
    },
    {
      "cell_type": "markdown",
      "metadata": {
        "id": "QrVEMfH_Sa1f"
      },
      "source": [
        "Введення необхідних змінних"
      ]
    },
    {
      "cell_type": "code",
      "metadata": {
        "id": "-PkASuilSZeX"
      },
      "source": [
        "batch_size = 50\r\n",
        "img_width, img_height, img_num_channels = 32, 32, 3\r\n",
        "loss_function = sparse_categorical_crossentropy\r\n",
        "no_classes = 10\r\n",
        "no_epochs = 5\r\n",
        "optimizer = Adam()\r\n",
        "validation_split = 0.2\r\n",
        "verbosity = 1"
      ],
      "execution_count": null,
      "outputs": []
    },
    {
      "cell_type": "markdown",
      "metadata": {
        "id": "0dy7Q69jSXPF"
      },
      "source": [
        "Завантаження даних CIFAR-10 "
      ]
    },
    {
      "cell_type": "code",
      "metadata": {
        "id": "-V-9NQI_SV38"
      },
      "source": [
        "(input_train, target_train), (input_test, target_test) = cifar10.load_data()"
      ],
      "execution_count": null,
      "outputs": []
    },
    {
      "cell_type": "markdown",
      "metadata": {
        "id": "mn-pdDUNSTPV"
      },
      "source": [
        "Визначення форми даних"
      ]
    },
    {
      "cell_type": "code",
      "metadata": {
        "id": "boVs62ZLSRm9"
      },
      "source": [
        "input_shape = (img_width, img_height, img_num_channels)\r\n",
        "input_train = input_train.astype('float32')\r\n",
        "input_test = input_test.astype('float32')"
      ],
      "execution_count": null,
      "outputs": []
    },
    {
      "cell_type": "markdown",
      "metadata": {
        "id": "4JjuY_fRSM2l"
      },
      "source": [
        "Нормалізація даних"
      ]
    },
    {
      "cell_type": "code",
      "metadata": {
        "id": "-Bqbh4Q4SLDG"
      },
      "source": [
        "input_train = input_train / 255\r\n",
        "input_test = input_test / 255"
      ],
      "execution_count": null,
      "outputs": []
    },
    {
      "cell_type": "markdown",
      "metadata": {
        "id": "bKGl6m58SFG0"
      },
      "source": [
        "Створення моделі"
      ]
    },
    {
      "cell_type": "code",
      "metadata": {
        "id": "9HPxOunkSEM8"
      },
      "source": [
        "model = Sequential()\r\n",
        "model.add(Conv2D(32, kernel_size=(3, 3), activation='relu', input_shape=input_shape))\r\n",
        "model.add(MaxPooling2D(pool_size=(2, 2)))\r\n",
        "model.add(Conv2D(64, kernel_size=(3, 3), activation='relu'))\r\n",
        "model.add(MaxPooling2D(pool_size=(2, 2)))\r\n",
        "model.add(Conv2D(128, kernel_size=(3, 3), activation='relu'))\r\n",
        "model.add(MaxPooling2D(pool_size=(2, 2)))\r\n",
        "model.add(Flatten())\r\n",
        "model.add(Dense(256, activation='relu'))\r\n",
        "model.add(Dense(128, activation='relu'))\r\n",
        "model.add(Dense(no_classes, activation='softmax'))\r\n",
        "print(model.summary())  "
      ],
      "execution_count": null,
      "outputs": []
    },
    {
      "cell_type": "markdown",
      "metadata": {
        "id": "ptmjNGmgR6ds"
      },
      "source": [
        "Компіляція моделі"
      ]
    },
    {
      "cell_type": "code",
      "metadata": {
        "id": "2m3jCcAER4zN"
      },
      "source": [
        "model.compile(loss=loss_function,\r\n",
        "              optimizer=optimizer,\r\n",
        "              metrics=['accuracy'])"
      ],
      "execution_count": null,
      "outputs": []
    },
    {
      "cell_type": "markdown",
      "metadata": {
        "id": "xGzba4EfRwQ2"
      },
      "source": [
        "Навчання моделі"
      ]
    },
    {
      "cell_type": "code",
      "metadata": {
        "id": "XqieUtUTFteT"
      },
      "source": [
        "history = model.fit(input_train, target_train,\r\n",
        "            batch_size=batch_size,\r\n",
        "            epochs=no_epochs,\r\n",
        "            verbose=verbosity,\r\n",
        "            validation_split=validation_split)\r\n",
        "\r\n",
        "score = model.evaluate(input_test, target_test, verbose=0)\r\n",
        "print(f'Test loss: {score[0]} / Test accuracy: {score[1]}')"
      ],
      "execution_count": null,
      "outputs": []
    },
    {
      "cell_type": "markdown",
      "metadata": {
        "id": "jveKBZfxRtgw"
      },
      "source": [
        "Перевірка мережі на конкретному зображенні"
      ]
    },
    {
      "cell_type": "code",
      "metadata": {
        "id": "ZpgTt9cED1Fv"
      },
      "source": [
        "n = 3\r\n",
        "x = np.expand_dims(input_test[n], axis=0)\r\n",
        "res = model.predict(x)\r\n",
        "print( res )\r\n",
        "\r\n",
        "if np.argmax(res)==0:\r\n",
        "  name='літак'\r\n",
        "elif np.argmax(res)==1:\r\n",
        "  name='автомобіль'\r\n",
        "elif np.argmax(res)==2:\r\n",
        "  name='птах'\r\n",
        "elif np.argmax(res)==3:\r\n",
        "  name='кіт'\r\n",
        "elif np.argmax(res)==4:\r\n",
        "  name='олень'\r\n",
        "elif np.argmax(res)==5:\r\n",
        "  name='собака'\r\n",
        "elif np.argmax(res)==6:\r\n",
        "  name='жаба'\r\n",
        "elif np.argmax(res)==7:\r\n",
        "  name='кінь'\r\n",
        "elif np.argmax(res)==8:\r\n",
        "  name='корабель'\r\n",
        "elif np.argmax(res)==9:\r\n",
        "  name='вантажівка'\r\n",
        "\r\n",
        "\r\n",
        "print(f\" На даній картинці : {name}\" )\r\n",
        "\r\n",
        "plt.imshow(input_test[n], cmap=plt.cm.binary)\r\n",
        "plt.show()"
      ],
      "execution_count": null,
      "outputs": []
    }
  ]
}